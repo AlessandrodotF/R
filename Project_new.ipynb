{
 "cells": [
  {
   "cell_type": "markdown",
   "id": "25be3ca7",
   "metadata": {},
   "source": [
    "# Implement K2 algorithm"
   ]
  },
  {
   "cell_type": "code",
   "execution_count": 4,
   "id": "b3288894",
   "metadata": {},
   "outputs": [],
   "source": [
    "library(\"bnstruct\")\n",
    "library(\"dplyr\")\n",
    "library(\"bnlearn\")"
   ]
  },
  {
   "cell_type": "code",
   "execution_count": 5,
   "id": "6347b9bf",
   "metadata": {},
   "outputs": [],
   "source": [
    "# Alpha i j k with fixed i, j\n",
    "alpha <- function(data, k, parents, phi, pi, vi){\n",
    "\n",
    "    if (is.null(pi) == FALSE){\n",
    "            return (length(which(data == vi[k] & apply(parents, 1, function(x) identical(as.numeric(x), phi)))))\n",
    "        }\n",
    "    else {return (length(which(data == vi[k])))}\n",
    "}"
   ]
  },
  {
   "cell_type": "code",
   "execution_count": 6,
   "id": "6c32e571",
   "metadata": {},
   "outputs": [],
   "source": [
    "f <- function(i, pi, data, l){\n",
    "    #f <- 1 # Output\n",
    "    if (l==TRUE) {f <- 0}\n",
    "    else {f <- 1 }\n",
    "    uniq <- lapply(data[pi], unique)\n",
    "    Phi <- expand.grid(uniq)                          # List of possible\n",
    "                                                      # instantiations of \n",
    "                                                      # the parents\n",
    "    Vi <- as.numeric(unlist(unique(data[i]))) # List of possible value for x_i\n",
    "    r <- length(Vi)\n",
    "    q <- nrow(Phi)\n",
    "    x_i <- data[[i]] # x_i in the dataset\n",
    "    x_parents <- data[pi] # x_parents in the dataset\n",
    "    \n",
    "    if(q==0){q<-1} # When there are no parents\n",
    "    \n",
    "    for (j in 1:q){\n",
    "        Phi_j <- as.numeric(Phi[j, ]) # Fix a combination of instantiations\n",
    "                                          # for the parents\n",
    "        prod_2 <- 1\n",
    "        Nij <- 0\n",
    "        k <- seq(1:r)\n",
    "\n",
    "        # List of alpha value for all values of k\n",
    "        a <- sapply(k, alpha, data = x_i, parents = x_parents, \n",
    "                            phi = Phi_j, pi = pi, vi = Vi)\n",
    "        # COSA RESTITUISCE?\n",
    "        if (l == FALSE){\n",
    "            Nij <- sum(a)\n",
    "            prod_2 <- prod(factorial(a))\n",
    "            f <- f * factorial(r-1) / factorial(Nij + r - 1) * prod_2\n",
    "        }\n",
    "        \n",
    "        else{\n",
    "            if (any(a==0)){a[a==0] <- 0.01}  \n",
    "            Nij <- sum(a)\n",
    "            prod2 <- sum(a * log(a) - a)\n",
    "            f <- f + ((r-1) * log(r-1) - (r-1)) - ((Nij + r - 1) * log(Nij + r - 1) - (Nij + r - 1)) + prod2\n",
    "            }\n",
    "            }\n",
    "return(f)\n",
    "}"
   ]
  },
  {
   "cell_type": "code",
   "execution_count": 7,
   "id": "510d4b41",
   "metadata": {},
   "outputs": [],
   "source": [
    "K2 <- function(n, u, order, D, l = FALSE){\n",
    "    \n",
    "    D <- D[order] # Order database respect to order nodes\n",
    "    \n",
    "    for (i in 1:n){\n",
    "    pi <- NULL # Set of parents\n",
    "    P_old <- f(i, pi, D, l)\n",
    "    PROCEED <- TRUE\n",
    "\n",
    "    while( PROCEED == TRUE && length(pi) < u[i] ){\n",
    "        Pred <- order[1 : i - 1] # Precedent nodes\n",
    "        nodes <- setdiff(Pred, pi) # Difference between actual parents and\n",
    "                                   # Previous nodes\n",
    "        P_max <- NULL # List of P for different z\n",
    "\n",
    "        # Find the z that maximizes P(i, pi)\n",
    "        if (length(nodes) !=0){\n",
    "        for (j in 1:(length(nodes))){\n",
    "                z <- nodes[j] \n",
    "                pi_new <- c(pi, z)\n",
    "                P_max <- c(P_max, f(i, pi_new, D, l))\n",
    "            }\n",
    "        }\n",
    "\n",
    "        # For the first iteraction\n",
    "        else {\n",
    "            P_max <- c(P_max, f(i, pi, D, l))\n",
    "            }\n",
    "\n",
    "        z <- nodes[which.max(P_max)] # z that maximizes P(i, pi)\n",
    "        pi_new <- c(pi,z)  \n",
    "        P_new <- max(P_max)\n",
    "\n",
    "        if (P_new > P_old){\n",
    "            P_old <- P_new\n",
    "            pi <- c(pi,z)\n",
    "        }\n",
    "\n",
    "        else{PROCEED <- FALSE}\n",
    "        }\n",
    "    cat (\"Node: \", order[i], \" Parents: \", pi, \"\\n\");\n",
    "    }\n",
    "}"
   ]
  },
  {
   "cell_type": "markdown",
   "id": "f9af5b1b",
   "metadata": {},
   "source": [
    "* Dataset taken from: \"*Illustration of the K2 Algorithm for learning Bayes Net Structures*\" "
   ]
  },
  {
   "cell_type": "code",
   "execution_count": 8,
   "id": "94cdcd34",
   "metadata": {},
   "outputs": [],
   "source": [
    "x1 <- c(1, 1, 0, 1, 0, 0, 1, 0, 1, 0)\n",
    "x2 <- c(0, 1, 0, 1, 0, 1, 1, 0, 1, 0)\n",
    "x3 <- c(0, 1, 1, 1, 0, 1, 1, 0, 1, 0)\n",
    "D <- data.frame(x1, x2, x3)\n",
    "\n",
    "n <- ncol(D) # Number of nodes\n",
    "u <- c(0,1,2) # Upper limit to the number of parents\n",
    "order <- names(D) # Order of nodes\n"
   ]
  },
  {
   "cell_type": "markdown",
   "id": "973831f7",
   "metadata": {},
   "source": [
    "* Speed of computation"
   ]
  },
  {
   "cell_type": "code",
   "execution_count": 9,
   "id": "49927fbc",
   "metadata": {},
   "outputs": [
    {
     "name": "stdout",
     "output_type": "stream",
     "text": [
      "Node:  x1  Parents:  \n",
      "Node:  x2  Parents:  x1 \n",
      "Node:  x3  Parents:  x2 \n",
      "K2 algorithm without log: 0.08920693 sec \n",
      "\n",
      "Node:  x1  Parents:  \n",
      "Node:  x2  Parents:  \n",
      "Node:  x3  Parents:  x2 \n",
      "K2 algorithm with log: 0.01296306 sec \n"
     ]
    }
   ],
   "source": [
    "\n",
    "start.time <- Sys.time()\n",
    "K2(n, u, order, D, l=FALSE) \n",
    "end.time <- Sys.time()\n",
    "cat(\"K2 algorithm without log:\",end.time - start.time,\"sec \\n\")\n",
    "cat(\"\\n\")\n",
    "start.time <- Sys.time()\n",
    "K2(n, u, order, D, l=TRUE) \n",
    "end.time <- Sys.time()\n",
    "cat(\"K2 algorithm with log:\",end.time - start.time,\"sec \\n\")\n",
    "\n"
   ]
  },
  {
   "cell_type": "markdown",
   "id": "6f855c3e",
   "metadata": {},
   "source": [
    "# Implement K2 algorithm with bnstruct package"
   ]
  },
  {
   "cell_type": "code",
   "execution_count": 10,
   "id": "58aa7e6e",
   "metadata": {},
   "outputs": [],
   "source": [
    "dataset <- BNDataset(data = D,\n",
    "                    discreteness = rep('d',3),\n",
    "                    variables = c(\"x1\", \"x2\", \"x3\"),\n",
    "                    starts.from = 0,\n",
    "                    node.sizes = c(2,2,2)) # Cardinality\n",
    "layers <- c(1,2,3) # Equivalent to order defined above\n",
    "u <- c(1,2,3)"
   ]
  },
  {
   "cell_type": "markdown",
   "id": "a6c3cde7",
   "metadata": {},
   "source": [
    "* Speed of computation"
   ]
  },
  {
   "cell_type": "code",
   "execution_count": 11,
   "id": "43584729",
   "metadata": {
    "scrolled": false
   },
   "outputs": [
    {
     "name": "stderr",
     "output_type": "stream",
     "text": [
      "bnstruct :: learning the structure using SM ...\n",
      "\n",
      "bnstruct :: learning using SM completed.\n",
      "\n",
      "bnstruct :: learning network parameters ... \n",
      "\n",
      "bnstruct :: parameter learning done.\n",
      "\n"
     ]
    },
    {
     "name": "stdout",
     "output_type": "stream",
     "text": [
      "Time of computation: 0.04674387 sec"
     ]
    }
   ],
   "source": [
    "start.time <- Sys.time()\n",
    "net <- learn.network(algo = \"sm\", x = dataset, layering = layers, max.parents = u)\n",
    "end.time <- Sys.time()\n",
    "cat(\"Time of computation:\",end.time - start.time,\"sec\")"
   ]
  },
  {
   "cell_type": "code",
   "execution_count": 55,
   "id": "0181b050",
   "metadata": {},
   "outputs": [
    {
     "data": {
      "image/png": "[encoded data removed]",
      "text/plain": [
       "plot without title"
      ]
     },
     "metadata": {
      "image/png": {
       "height": 420,
       "width": 420
      }
     },
     "output_type": "display_data"
    }
   ],
   "source": [
    "plot(net)"
   ]
  },
  {
   "cell_type": "markdown",
   "id": "e84cd55c",
   "metadata": {},
   "source": [
    "# K2 for binary generated data"
   ]
  },
  {
   "cell_type": "markdown",
   "id": "1239081f",
   "metadata": {},
   "source": [
    "* Simplest case. x2 and x3 depends on x1"
   ]
  },
  {
   "cell_type": "code",
   "execution_count": 58,
   "id": "38d84687",
   "metadata": {},
   "outputs": [],
   "source": [
    "n <- 10\n",
    "x1 <- rbinom(n, 1, 1/2)\n",
    "x2 <- rep(0,n)\n",
    "x3 <- rep(0,n)\n",
    "\n",
    "idx <- which(x1 == 1)\n",
    "\n",
    "rand <- runif(length(idx))\n",
    "x2[idx[rand >= 0.20]] <- 1\n",
    "\n",
    "rand <- runif(length(idx))\n",
    "x3[idx[rand >= 0.40]] <- 1\n",
    "\n",
    "D <- data.frame(x1, x2, x3)\n",
    "n <- ncol(D)\n",
    "u <- c(0,1,2)\n",
    "order <- names(D)"
   ]
  },
  {
   "cell_type": "markdown",
   "id": "8defe33a",
   "metadata": {},
   "source": [
    "* Speed of computation using the implemented algorithm"
   ]
  },
  {
   "cell_type": "code",
   "execution_count": 60,
   "id": "df88b702",
   "metadata": {},
   "outputs": [
    {
     "name": "stdout",
     "output_type": "stream",
     "text": [
      "Node:  x1  Parents:  \n",
      "Node:  x2  Parents:  x1 \n",
      "Node:  x3  Parents:  x1 \n",
      "Without log: 0.009063005 sec \n",
      "\n",
      "Node:  x1  Parents:  \n",
      "Node:  x2  Parents:  x1 \n",
      "Node:  x3  Parents:  x1 \n",
      "With log: 0.007997036 sec \n"
     ]
    }
   ],
   "source": [
    "start.time <- Sys.time()\n",
    "K2(n, u, order, D, l= FALSE)\n",
    "end.time <- Sys.time()\n",
    "cat(\"Without log:\",end.time - start.time,\"sec \\n\")\n",
    "cat(\"\\n\")\n",
    "start.time <- Sys.time()\n",
    "K2(n, u, order, D, l= TRUE)\n",
    "end.time <- Sys.time()\n",
    "cat(\"With log:\",end.time - start.time,\"sec \\n\")"
   ]
  },
  {
   "cell_type": "code",
   "execution_count": 61,
   "id": "9933147b",
   "metadata": {},
   "outputs": [],
   "source": [
    "dataset <- BNDataset(data = D,\n",
    "                    discreteness = rep('d',3),\n",
    "                    variables = c(\"x1\", \"x2\", \"x3\"),\n",
    "                    starts.from = 0,\n",
    "                    node.sizes = c(2,2,2))\n",
    "\n",
    "layers <- c(1,2,3)\n",
    "u <- c(1,2,3)"
   ]
  },
  {
   "cell_type": "markdown",
   "id": "ecd6547b",
   "metadata": {},
   "source": [
    "* Speed of computation using bnlearn"
   ]
  },
  {
   "cell_type": "code",
   "execution_count": 62,
   "id": "85f253da",
   "metadata": {},
   "outputs": [
    {
     "name": "stderr",
     "output_type": "stream",
     "text": [
      "bnstruct :: learning the structure using SM ...\n",
      "\n",
      "bnstruct :: learning using SM completed.\n",
      "\n",
      "bnstruct :: learning network parameters ... \n",
      "\n",
      "bnstruct :: parameter learning done.\n",
      "\n"
     ]
    },
    {
     "name": "stdout",
     "output_type": "stream",
     "text": [
      "Time of computation: 0.01852489 sec"
     ]
    }
   ],
   "source": [
    "start.time <- Sys.time()\n",
    "net <- learn.network(algo = \"sm\", x = dataset, layering = layers, max.parents = u)\n",
    "end.time <- Sys.time()\n",
    "cat(\"Time of computation:\",end.time - start.time,\"sec\")"
   ]
  },
  {
   "cell_type": "code",
   "execution_count": 63,
   "id": "74fba714",
   "metadata": {},
   "outputs": [
    {
     "data": {
      "image/png": "[encoded data removed]",
      "text/plain": [
       "plot without title"
      ]
     },
     "metadata": {
      "image/png": {
       "height": 420,
       "width": 420
      }
     },
     "output_type": "display_data"
    }
   ],
   "source": [
    "plot(net)"
   ]
  },
  {
   "cell_type": "markdown",
   "id": "effd7275",
   "metadata": {},
   "source": [
    "* x2 depends on x1 and x3 depends on x2"
   ]
  },
  {
   "cell_type": "code",
   "execution_count": 64,
   "id": "6a4ab8f5",
   "metadata": {},
   "outputs": [],
   "source": [
    "n <- 100\n",
    "size <- 2\n",
    "prob <- 1/3\n",
    "\n",
    "x1 <- rbinom(n, size, prob)\n",
    "\n",
    "idx <- which(x1 == 1)\n",
    "x2 <- rep(0,n)\n",
    "rand <- runif(length(idx))\n",
    "x2[idx[rand >= 0.70]] <- 2\n",
    "\n",
    "idx2 <- which(x2 == 2)\n",
    "x3 <- rep(0,n)\n",
    "rand <- runif(length(idx2))\n",
    "x3[idx2[rand <= 0.20]] <- 1\n",
    "\n",
    "D <- data.frame(x1, x2, x3)\n",
    "n <- ncol(D)\n",
    "u <- c(0,1,1)\n",
    "order <- names(D)"
   ]
  },
  {
   "cell_type": "markdown",
   "id": "8ce77984",
   "metadata": {},
   "source": [
    "* Speed of computation using the implemented algorithm"
   ]
  },
  {
   "cell_type": "code",
   "execution_count": 66,
   "id": "47dcceec",
   "metadata": {},
   "outputs": [
    {
     "name": "stdout",
     "output_type": "stream",
     "text": [
      "Node:  x1  Parents:  \n",
      "Node:  x2  Parents:  x1 \n",
      "Node:  x3  Parents:  x2 \n",
      "Without log: 0.008967161 sec \n",
      "\n",
      "Node:  x1  Parents:  \n",
      "Node:  x2  Parents:  x1 \n",
      "Node:  x3  Parents:  x2 \n",
      "With log: 0.01602507 sec \n"
     ]
    }
   ],
   "source": [
    "start.time <- Sys.time()\n",
    "K2(n, u, order, D, l= FALSE)\n",
    "end.time <- Sys.time()\n",
    "cat(\"Without log:\",end.time - start.time,\"sec \\n\")\n",
    "cat(\"\\n\")\n",
    "start.time <- Sys.time()\n",
    "K2(n, u, order, D, l= TRUE)\n",
    "end.time <- Sys.time()\n",
    "cat(\"With log:\",end.time - start.time,\"sec \\n\")"
   ]
  },
  {
   "cell_type": "code",
   "execution_count": 68,
   "id": "4595886e",
   "metadata": {},
   "outputs": [],
   "source": [
    "dataset <- BNDataset(data = D,\n",
    "                    discreteness = rep('d',3),\n",
    "                    variables = c(\"x1\", \"x2\", \"x3\"),\n",
    "                    starts.from = 0,\n",
    "                    node.sizes = c(3,3,2))\n",
    "\n",
    "layers <- c(1,2,3)\n",
    "u <- n - 1"
   ]
  },
  {
   "cell_type": "markdown",
   "id": "ecce9028",
   "metadata": {},
   "source": [
    "* Speed of computation using bnlearn"
   ]
  },
  {
   "cell_type": "code",
   "execution_count": 69,
   "id": "46b939e6",
   "metadata": {},
   "outputs": [
    {
     "name": "stderr",
     "output_type": "stream",
     "text": [
      "bnstruct :: learning the structure using SM ...\n",
      "\n",
      "bnstruct :: learning using SM completed.\n",
      "\n",
      "bnstruct :: learning network parameters ... \n",
      "\n",
      "bnstruct :: parameter learning done.\n",
      "\n"
     ]
    },
    {
     "name": "stdout",
     "output_type": "stream",
     "text": [
      "Time of computation: 0.01596498 sec"
     ]
    }
   ],
   "source": [
    "start.time <- Sys.time()\n",
    "net <- learn.network(algo = \"sm\", x = dataset, layering = layers, max.parents = u)\n",
    "end.time <- Sys.time()\n",
    "cat(\"Time of computation:\",end.time - start.time,\"sec\")\n"
   ]
  },
  {
   "cell_type": "code",
   "execution_count": 70,
   "id": "babceb33",
   "metadata": {},
   "outputs": [
    {
     "data": {
      "image/png": "[encoded data removed]",
      "text/plain": [
       "plot without title"
      ]
     },
     "metadata": {
      "image/png": {
       "height": 420,
       "width": 420
      }
     },
     "output_type": "display_data"
    }
   ],
   "source": [
    "plot(net)"
   ]
  },
  {
   "cell_type": "markdown",
   "id": "cc62034f",
   "metadata": {},
   "source": [
    "* Multiple nodes and values"
   ]
  },
  {
   "cell_type": "code",
   "execution_count": 72,
   "id": "a44c361c",
   "metadata": {},
   "outputs": [],
   "source": [
    "n <- 50\n",
    "\n",
    "x1 <- rbinom(n, 1, prob = 1/5)\n",
    "x2 <- sample(0:3, n, replace = T)\n",
    "x3 <- rep(0,n)\n",
    "x4 <- rep(0,n)\n",
    "\n",
    "idx2 <- which(x1 == 1)\n",
    "rand <- runif(length(idx2))\n",
    "x3[idx2[rand >= 0.20]] <- 1\n",
    "\n",
    "idx2 <- which(x2 == 3)\n",
    "rand <- runif(length(idx2))\n",
    "x3[idx2[rand >= 0.10]] <- 2\n",
    "\n",
    "idx3 <- which(x3 == 1)\n",
    "rand <- runif(length(idx3))\n",
    "x4[idx3[rand >= 0.30]] <- 1\n",
    "\n",
    "idx3 <- which(x2 == 1)\n",
    "rand <- runif(length(idx3))\n",
    "x4[idx3[rand >= 0.20]] <- 2\n",
    "\n",
    "D <- data.frame(x1, x2, x3, x4)\n",
    "n <- ncol(D)\n",
    "u <- c(0,1,2,3)\n",
    "order <- names(D)"
   ]
  },
  {
   "cell_type": "markdown",
   "id": "e4f38104",
   "metadata": {},
   "source": [
    "* Speed of computation using the implemented algorithm"
   ]
  },
  {
   "cell_type": "code",
   "execution_count": 73,
   "id": "b80b0e7d",
   "metadata": {
    "scrolled": true
   },
   "outputs": [
    {
     "name": "stdout",
     "output_type": "stream",
     "text": [
      "Node:  x1  Parents:  \n",
      "Node:  x2  Parents:  \n",
      "Node:  x3  Parents:  x2 x1 \n",
      "Node:  x4  Parents:  x2 \n",
      "Without log: 0.05040789 sec \n",
      "\n",
      "Node:  x1  Parents:  \n",
      "Node:  x2  Parents:  \n",
      "Node:  x3  Parents:  x2 x1 \n",
      "Node:  x4  Parents:  \n",
      "With log: 0.02997518 sec \n"
     ]
    }
   ],
   "source": [
    "start.time <- Sys.time()\n",
    "K2(n, u, order, D, l= FALSE)\n",
    "end.time <- Sys.time()\n",
    "cat(\"Without log:\",end.time - start.time,\"sec \\n\")\n",
    "cat(\"\\n\")\n",
    "start.time <- Sys.time()\n",
    "K2(n, u, order, D, l= TRUE)\n",
    "end.time <- Sys.time()\n",
    "cat(\"With log:\",end.time - start.time,\"sec \\n\")"
   ]
  },
  {
   "cell_type": "code",
   "execution_count": 74,
   "id": "ca48fecc",
   "metadata": {},
   "outputs": [],
   "source": [
    "dataset <- BNDataset(data = D,\n",
    "                    discreteness = rep('d',4),\n",
    "                    variables = c(\"x1\", \"x2\", \"x3\", 'x4'),\n",
    "                    starts.from = 0,\n",
    "                    node.sizes = c(2,4,3,3))\n",
    "\n",
    "layers <- c(1,2,3,4)\n",
    "u <- c(1,2,3,4)"
   ]
  },
  {
   "cell_type": "markdown",
   "id": "588b6b4c",
   "metadata": {},
   "source": [
    "* Speed of computation using bnlearn"
   ]
  },
  {
   "cell_type": "code",
   "execution_count": 75,
   "id": "05b33aeb",
   "metadata": {},
   "outputs": [
    {
     "name": "stderr",
     "output_type": "stream",
     "text": [
      "bnstruct :: learning the structure using SM ...\n",
      "\n",
      "bnstruct :: learning using SM completed.\n",
      "\n",
      "bnstruct :: learning network parameters ... \n",
      "\n",
      "bnstruct :: parameter learning done.\n",
      "\n"
     ]
    },
    {
     "name": "stdout",
     "output_type": "stream",
     "text": [
      "Time of computation: 0.0169239 sec"
     ]
    }
   ],
   "source": [
    "start.time <- Sys.time()\n",
    "net <- learn.network(algo = \"sm\", x = dataset, layering = layers, max.parents = u)\n",
    "end.time <- Sys.time()\n",
    "cat(\"Time of computation:\",end.time - start.time,\"sec\")\n"
   ]
  },
  {
   "cell_type": "code",
   "execution_count": 76,
   "id": "7418397d",
   "metadata": {},
   "outputs": [
    {
     "data": {
      "image/png": "[encoded data removed]",
      "text/plain": [
       "plot without title"
      ]
     },
     "metadata": {
      "image/png": {
       "height": 420,
       "width": 420
      }
     },
     "output_type": "display_data"
    }
   ],
   "source": [
    "plot(net)"
   ]
  },
  {
   "cell_type": "markdown",
   "id": "184a5e6a",
   "metadata": {},
   "source": [
    "# Asia dataset"
   ]
  },
  {
   "cell_type": "code",
   "execution_count": 79,
   "id": "e8399d21",
   "metadata": {},
   "outputs": [],
   "source": [
    "data <- data.frame(raw.data(asia()))\n",
    "names(data) <- c('Asia', 'Tubercolosys', 'Smoke', 'LungCancer' ,'Bronchitis', 'Either' ,'X-ray', 'Dyspnea')\n",
    "n <- ncol(data)\n",
    "u <- c(0,1,0, 1,  1, 2, 1, 2)\n",
    "order <- names(data)"
   ]
  },
  {
   "cell_type": "markdown",
   "id": "ef7c15c0",
   "metadata": {},
   "source": [
    "* Speed of computation using the implemented algorithm "
   ]
  },
  {
   "cell_type": "code",
   "execution_count": 90,
   "id": "f00baec6",
   "metadata": {},
   "outputs": [
    {
     "name": "stdout",
     "output_type": "stream",
     "text": [
      "Node:  Asia  Parents:  \n",
      "Node:  Tubercolosys  Parents:  Asia \n",
      "Node:  Smoke  Parents:  \n",
      "Node:  LungCancer  Parents:  \n",
      "Node:  Bronchitis  Parents:  LungCancer \n",
      "Node:  Either  Parents:  Tubercolosys Bronchitis \n",
      "Node:  X-ray  Parents:  Either \n",
      "Node:  Dyspnea  Parents:  Smoke Either \n",
      "With log: 3.330153 sec \n"
     ]
    }
   ],
   "source": [
    "start.time <- Sys.time()\n",
    "K2(n, u, order, data, l= TRUE)\n",
    "end.time <- Sys.time()\n",
    "cat(\"With log:\",end.time - start.time,\"sec \\n\")"
   ]
  },
  {
   "cell_type": "code",
   "execution_count": 92,
   "id": "aeac0e26",
   "metadata": {
    "scrolled": false
   },
   "outputs": [],
   "source": [
    "dataset <- BNDataset(data = data,\n",
    "                    discreteness = rep('d',8),\n",
    "                    variables = c('Asia', 'Tubercolosys', 'Smoke', 'LungCancer' ,'Bronchitis', 'Either' ,'X-ray', 'Dyspnea'),\n",
    "                    starts.from = 1,\n",
    "                    node.sizes = c(2,2,2,2,2,2,2,2))\n",
    "\n",
    "layers <- c(1,2,1, 2, 3, 3, 4, 4)\n",
    "#u <- c(1,2,1, 2,  2, 3, 2, 3)\n",
    "u <- n - 1 "
   ]
  },
  {
   "cell_type": "markdown",
   "id": "b62e89f0",
   "metadata": {},
   "source": [
    "* Speed of computation using bnlearn"
   ]
  },
  {
   "cell_type": "code",
   "execution_count": 96,
   "id": "522a4846",
   "metadata": {},
   "outputs": [
    {
     "name": "stderr",
     "output_type": "stream",
     "text": [
      "bnstruct :: learning the structure using SM ...\n",
      "\n",
      "bnstruct :: learning using SM completed.\n",
      "\n",
      "bnstruct :: learning network parameters ... \n",
      "\n",
      "bnstruct :: parameter learning done.\n",
      "\n"
     ]
    },
    {
     "name": "stdout",
     "output_type": "stream",
     "text": [
      " 0.04786706 sec \n"
     ]
    }
   ],
   "source": [
    "start.time <- Sys.time()\n",
    "net <- learn.network(algo = \"sm\", x = dataset, max.parents = u, layering = layers)\n",
    "end.time <- Sys.time()\n",
    "cat(\"\",end.time - start.time,\"sec \\n\")"
   ]
  },
  {
   "cell_type": "code",
   "execution_count": null,
   "id": "3effc705",
   "metadata": {},
   "outputs": [],
   "source": [
    "plot(net)"
   ]
  },
  {
   "cell_type": "markdown",
   "id": "22a549a9",
   "metadata": {},
   "source": [
    "* Speed of computation using bnlearn for the basic the \"sm\" (Silander-Myllym¨aki) model "
   ]
  },
  {
   "cell_type": "code",
   "execution_count": 97,
   "id": "a70f235d",
   "metadata": {},
   "outputs": [
    {
     "name": "stderr",
     "output_type": "stream",
     "text": [
      "bnstruct :: learning the structure using SM ...\n",
      "\n",
      "bnstruct :: learning using SM completed.\n",
      "\n",
      "bnstruct :: learning network parameters ... \n",
      "\n",
      "bnstruct :: parameter learning done.\n",
      "\n"
     ]
    },
    {
     "name": "stdout",
     "output_type": "stream",
     "text": [
      " 0.07681894 sec \n"
     ]
    }
   ],
   "source": [
    "start.time <- Sys.time()\n",
    "net2 <- learn.network(algo = \"sm\", x = dataset)\n",
    "end.time <- Sys.time()\n",
    "cat(\"\",end.time - start.time,\"sec \\n\")\n",
    "\n"
   ]
  },
  {
   "cell_type": "code",
   "execution_count": null,
   "id": "677a2277",
   "metadata": {},
   "outputs": [],
   "source": [
    "plot(net)"
   ]
  },
  {
   "cell_type": "markdown",
   "id": "64cd1685",
   "metadata": {},
   "source": [
    "# Learning test"
   ]
  },
  {
   "cell_type": "markdown",
   "id": "5903ae8b",
   "metadata": {},
   "source": [
    "* Preprocessing the data"
   ]
  },
  {
   "cell_type": "code",
   "execution_count": 99,
   "id": "e5a70e77",
   "metadata": {},
   "outputs": [],
   "source": [
    "converter<-function(A){\n",
    "    n<-length(A)\n",
    "    for (i in 1:n){\n",
    "        if (A[i] == \"a\"){\n",
    "            A[i]<-as.numeric(1)\n",
    "            \n",
    "        }\n",
    "        else if( A[i]==\"b\"){\n",
    "             A[i]<-as.numeric(2)\n",
    "        }\n",
    "        else{\n",
    "            A[i]<-as.numeric(3)\n",
    "        }\n",
    "    }\n",
    "    return(as.numeric(A))\n",
    "}\n",
    "learning.test <- data.frame(lapply(learning.test, as.character), stringsAsFactors=FALSE)\n",
    "data <- data.frame(apply(learning.test, MARGIN=2, converter ))\n",
    "\n",
    "n <- ncol(data)\n",
    "u <- c(0,0,1,1,2,2)\n",
    "order <- c('F', 'C','A','B','E','D')"
   ]
  },
  {
   "cell_type": "markdown",
   "id": "abe1ef5c",
   "metadata": {},
   "source": [
    "* Speed of computation using the implemented algorithm"
   ]
  },
  {
   "cell_type": "code",
   "execution_count": 101,
   "id": "542bcbb8",
   "metadata": {},
   "outputs": [
    {
     "name": "stdout",
     "output_type": "stream",
     "text": [
      "Node:  F  Parents:  \n",
      "Node:  C  Parents:  \n",
      "Node:  A  Parents:  \n",
      "Node:  B  Parents:  A \n",
      "Node:  E  Parents:  B F \n",
      "Node:  D  Parents:  A C \n",
      "With log: 2.794676 sec \n"
     ]
    }
   ],
   "source": [
    "start.time <- Sys.time()\n",
    "K2(n, u, order, data, l=TRUE)\n",
    "end.time <- Sys.time()\n",
    "cat(\"With log:\",end.time - start.time,\"sec \\n\")"
   ]
  },
  {
   "cell_type": "code",
   "execution_count": 102,
   "id": "fbb63a17",
   "metadata": {
    "scrolled": false
   },
   "outputs": [],
   "source": [
    "dataset <- BNDataset(data = data,\n",
    "                    discreteness = rep('d',6),\n",
    "                    variables = c('A', 'B','C','D','E','F'),\n",
    "                    starts.from = 1,\n",
    "                    node.sizes = c(3,3,3,3,3,2))\n",
    "\n",
    "layers <- c(2, 2, 1, 3, 3, 1)\n",
    "u <- c(2, 2, 1, 3, 3, 1)\n",
    "#u <- n - 1 "
   ]
  },
  {
   "cell_type": "markdown",
   "id": "fca39b8c",
   "metadata": {},
   "source": [
    "* Speed of computation using bnlearn"
   ]
  },
  {
   "cell_type": "code",
   "execution_count": 105,
   "id": "9ead7982",
   "metadata": {},
   "outputs": [
    {
     "name": "stderr",
     "output_type": "stream",
     "text": [
      "bnstruct :: learning the structure using SM ...\n",
      "\n",
      "Warning message in max.fanin.layers > max.fanin:\n",
      "\"longer object length is not a multiple of shorter object length\"\n",
      "Warning message in max.fanin.layers[max.fanin.layers > max.fanin] <- max.fanin:\n",
      "\"il numero di elementi da sostituire non è un multiplo della lunghezza di sostituzione\"\n",
      "bnstruct :: learning using SM completed.\n",
      "\n",
      "bnstruct :: learning network parameters ... \n",
      "\n",
      "bnstruct :: parameter learning done.\n",
      "\n"
     ]
    },
    {
     "name": "stdout",
     "output_type": "stream",
     "text": [
      " 0.02487016 sec \n"
     ]
    }
   ],
   "source": [
    "start.time <- Sys.time()\n",
    "net <- learn.network(algo = \"sm\", x = dataset, max.parents = u, layering = layers)\n",
    "end.time <- Sys.time()\n",
    "cat(\"\",end.time - start.time,\"sec \\n\")"
   ]
  },
  {
   "cell_type": "code",
   "execution_count": null,
   "id": "42baccdf",
   "metadata": {},
   "outputs": [],
   "source": [
    "plot(net)\n"
   ]
  },
  {
   "cell_type": "markdown",
   "id": "77f23187",
   "metadata": {},
   "source": [
    "* Speed of computation using bnlearn for the basic the \"sm\" (Silander-Myllym¨aki) model"
   ]
  },
  {
   "cell_type": "code",
   "execution_count": 106,
   "id": "104410a8",
   "metadata": {},
   "outputs": [
    {
     "name": "stderr",
     "output_type": "stream",
     "text": [
      "bnstruct :: learning the structure using SM ...\n",
      "\n",
      "bnstruct :: learning using SM completed.\n",
      "\n",
      "bnstruct :: learning network parameters ... \n",
      "\n",
      "bnstruct :: parameter learning done.\n",
      "\n"
     ]
    },
    {
     "name": "stdout",
     "output_type": "stream",
     "text": [
      " 0.02494097 sec \n"
     ]
    }
   ],
   "source": [
    "start.time <- Sys.time()\n",
    "net2 <- learn.network(algo = \"sm\", x = dataset)\n",
    "end.time <- Sys.time()\n",
    "cat(\"\",end.time - start.time,\"sec \\n\")"
   ]
  },
  {
   "cell_type": "code",
   "execution_count": null,
   "id": "64767b2a",
   "metadata": {},
   "outputs": [],
   "source": [
    "plot(net2)"
   ]
  }
 ],
 "metadata": {
  "kernelspec": {
   "display_name": "R",
   "language": "R",
   "name": "ir"
  },
  "language_info": {
   "codemirror_mode": "r",
   "file_extension": ".r",
   "mimetype": "text/x-r-source",
   "name": "R",
   "pygments_lexer": "r",
   "version": "3.6.1"
  }
 },
 "nbformat": 4,
 "nbformat_minor": 5
}
