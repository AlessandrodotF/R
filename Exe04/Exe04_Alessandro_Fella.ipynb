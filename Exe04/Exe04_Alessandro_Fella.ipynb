{
 "cells": [
  {
   "cell_type": "markdown",
   "id": "b8d8215b",
   "metadata": {},
   "source": [
    "## Exercise 1"
   ]
  },
  {
   "cell_type": "code",
   "execution_count": null,
   "id": "45b899b6",
   "metadata": {},
   "outputs": [],
   "source": [
    "# 0=BLACK 1=WITHE\n",
    "H_0=c(0,0,0,0,0)\n",
    "cat(\"H_{0} :\",H_0,\"\\n\")\n",
    "H_1=c(1,0,0,0,0)\n",
    "cat(\"H_{1} :\",H_1,\"\\n\")\n",
    "H_2=c(1,1,0,0,0)\n",
    "cat(\"H_{2} :\",H_2,\"\\n\")\n",
    "H_3=c(1,1,1,0,0)\n",
    "cat(\"H_{3} :\",H_3,\"\\n\")\n",
    "H_4=c(1,1,1,1,0)\n",
    "cat(\"H_{4} :\",H_4,\"\\n\")\n",
    "H_5=c(1,1,1,1,1)\n",
    "cat(\"H_{5} :\",H_5,\"\\n\")\n",
    " \n",
    "\n",
    "prova<-function (H_change){\n",
    "    for (i in 1:5){\n",
    "    H_change[i]=as.integer(readline())\n",
    "    }\n",
    "    H_new<-H_change\n",
    "    return(H_new)\n",
    "}\n",
    "\n",
    "print(\"Do you want to change any H? \\n Press 1 to say YES, press 0 to say NO \")\n",
    "number_1<-as.integer(readline())\n",
    "if (number_1==1){\n",
    "number<-sample.int(0:5, 1)\n",
    "print(paste0(\"Write new values for the \",number,\"-th box:  \"))\n",
    "if (number==0){\n",
    "    print(paste0(\"New \",i,\"-th box:\"))\n",
    "    H_0<-prova(H_0)\n",
    "}else if (number==1){\n",
    "    print(paste0(\"New \",number,\"-th box:\"))\n",
    "    H_1<-prova(H_1)\n",
    "}else if (number==2){\n",
    "    print(paste0(\"New \",number,\"-th box:\"))\n",
    "    H_2<-prova(H_2)\n",
    "}else if (number==3){\n",
    "    print(paste0(\"New \",number,\"-th box:\"))\n",
    "    H_3<-prova(H_3)\n",
    "}else if (number==4){\n",
    "    print(paste0(\"New \",number,\"-th box:\"))\n",
    "    H_4<-prova(H_4)\n",
    "}else if (number==5){\n",
    "    print(paste0(\"New \",number,\"-th box:\"))\n",
    "    H_5<-prova(H_5)\n",
    "}else{\n",
    "    print(\"no changes\")\n",
    "}\n",
    "}else{\n",
    "    print(\"no changes, its fine\")\n",
    "}\n",
    "\n",
    "# print(prova(H_0))\n",
    "cat(\"H_{0} :\",H_0,\"\\n\")\n",
    "cat(\"H_{1} :\",H_1,\"\\n\")\n",
    "cat(\"H_{2} :\",H_2,\"\\n\")\n",
    "cat(\"H_{3} :\",H_3,\"\\n\")\n",
    "cat(\"H_{4} :\",H_4,\"\\n\")\n",
    "cat(\"H_{5} :\",H_5,\"\\n\")"
   ]
  },
  {
   "cell_type": "markdown",
   "id": "582f252e",
   "metadata": {},
   "source": [
    "## Exercise 2"
   ]
  },
  {
   "cell_type": "code",
   "execution_count": null,
   "id": "0006765a",
   "metadata": {},
   "outputs": [],
   "source": [
    "\n",
    "print(sample.int(5,2))"
   ]
  },
  {
   "cell_type": "markdown",
   "id": "19b1f861",
   "metadata": {},
   "source": [
    "## Exercise 3"
   ]
  },
  {
   "cell_type": "markdown",
   "id": "b7b7599d",
   "metadata": {},
   "source": [
    "## Exercise 4"
   ]
  }
 ],
 "metadata": {
  "kernelspec": {
   "display_name": "R",
   "language": "R",
   "name": "ir"
  },
  "language_info": {
   "codemirror_mode": "r",
   "file_extension": ".r",
   "mimetype": "text/x-r-source",
   "name": "R",
   "pygments_lexer": "r",
   "version": "3.6.1"
  }
 },
 "nbformat": 4,
 "nbformat_minor": 5
}
